{
 "cells": [
  {
   "cell_type": "markdown",
   "metadata": {},
   "source": [
    "# #Assignment 1\n",
    "# Sobia Pervaiz\n",
    "# PIAIC 54512\n",
    "# Timing: 9 to 12\n",
    "# Batch 3 AI, Bahria University, Islamabad"
   ]
  },
  {
   "cell_type": "code",
   "execution_count": 1,
   "metadata": {},
   "outputs": [
    {
     "data": {
      "text/plain": [
       "['__add__',\n",
       " '__class__',\n",
       " '__contains__',\n",
       " '__delattr__',\n",
       " '__dir__',\n",
       " '__doc__',\n",
       " '__eq__',\n",
       " '__format__',\n",
       " '__ge__',\n",
       " '__getattribute__',\n",
       " '__getitem__',\n",
       " '__getnewargs__',\n",
       " '__gt__',\n",
       " '__hash__',\n",
       " '__init__',\n",
       " '__init_subclass__',\n",
       " '__iter__',\n",
       " '__le__',\n",
       " '__len__',\n",
       " '__lt__',\n",
       " '__mod__',\n",
       " '__mul__',\n",
       " '__ne__',\n",
       " '__new__',\n",
       " '__reduce__',\n",
       " '__reduce_ex__',\n",
       " '__repr__',\n",
       " '__rmod__',\n",
       " '__rmul__',\n",
       " '__setattr__',\n",
       " '__sizeof__',\n",
       " '__str__',\n",
       " '__subclasshook__',\n",
       " 'capitalize',\n",
       " 'casefold',\n",
       " 'center',\n",
       " 'count',\n",
       " 'encode',\n",
       " 'endswith',\n",
       " 'expandtabs',\n",
       " 'find',\n",
       " 'format',\n",
       " 'format_map',\n",
       " 'index',\n",
       " 'isalnum',\n",
       " 'isalpha',\n",
       " 'isascii',\n",
       " 'isdecimal',\n",
       " 'isdigit',\n",
       " 'isidentifier',\n",
       " 'islower',\n",
       " 'isnumeric',\n",
       " 'isprintable',\n",
       " 'isspace',\n",
       " 'istitle',\n",
       " 'isupper',\n",
       " 'join',\n",
       " 'ljust',\n",
       " 'lower',\n",
       " 'lstrip',\n",
       " 'maketrans',\n",
       " 'partition',\n",
       " 'replace',\n",
       " 'rfind',\n",
       " 'rindex',\n",
       " 'rjust',\n",
       " 'rpartition',\n",
       " 'rsplit',\n",
       " 'rstrip',\n",
       " 'split',\n",
       " 'splitlines',\n",
       " 'startswith',\n",
       " 'strip',\n",
       " 'swapcase',\n",
       " 'title',\n",
       " 'translate',\n",
       " 'upper',\n",
       " 'zfill']"
      ]
     },
     "execution_count": 1,
     "metadata": {},
     "output_type": "execute_result"
    }
   ],
   "source": [
    "name = \"Sobia Pervaiz\"\n",
    "dir(name)"
   ]
  },
  {
   "cell_type": "code",
   "execution_count": 1,
   "metadata": {},
   "outputs": [
    {
     "name": "stdout",
     "output_type": "stream",
     "text": [
      "Old String: ARTIFICIAL INTELLIGENCE IS THE NEW ELECTRICITY\n",
      "Capitalized String: Artificial intelligence is the new electricity\n"
     ]
    }
   ],
   "source": [
    "# 1. capitalize()\n",
    "# capitalize the first alphabet of the string, and all other characters are lower-case.\n",
    "string = \"ARTIFICIAL INTELLIGENCE IS THE NEW ELECTRICITY\"\n",
    "capitalized_string = string.capitalize()\n",
    "print(\"Old String:\", string)\n",
    "print(\"Capitalized String:\", capitalized_string)"
   ]
  },
  {
   "cell_type": "code",
   "execution_count": 5,
   "metadata": {},
   "outputs": [
    {
     "name": "stdout",
     "output_type": "stream",
     "text": [
      "Centered string: ***Python is awesome****\n"
     ]
    }
   ],
   "source": [
    "# 2. center()\n",
    "# returns a string that is padded with specified character\n",
    "# string.center(width [, fillchar])\n",
    "#fillchar is optional\n",
    "\n",
    "string = \"Python is awesome\"\n",
    "new_string = string.center(24, \"*\")\n",
    "print(\"Centered string:\", new_string)"
   ]
  },
  {
   "cell_type": "code",
   "execution_count": 6,
   "metadata": {},
   "outputs": [
    {
     "name": "stdout",
     "output_type": "stream",
     "text": [
      "Lowercase String: artificial intelligence is the new electricity\n"
     ]
    }
   ],
   "source": [
    "# 3. casefold()\n",
    "# it removes all case distinctions in a string\n",
    "\n",
    "string = \"ARTIFICIAL INTELLIGENCE IS THE NEW ELECTRICITY\"\n",
    "print(\"Lowercase String:\", string.casefold())\n"
   ]
  },
  {
   "cell_type": "code",
   "execution_count": 1,
   "metadata": {},
   "outputs": [
    {
     "name": "stdout",
     "output_type": "stream",
     "text": [
      "The count is: 2\n"
     ]
    }
   ],
   "source": [
    "# 4. count()\n",
    "# count number of occurrences of a substring in the given string\n",
    "\n",
    "# string.count(substring, start, end)\n",
    "# start (optional) = starting index within the index where the search starts\n",
    "# end (optional) = ending index within the string where the search ends\n",
    "#index = 0,1,2, ...\n",
    "\n",
    "string = \"A friend in need is a friend indeed!\"\n",
    "substring = \"friend\"\n",
    "count = string.count(substring, 2, 29)\n",
    "print(\"The count is:\", count)"
   ]
  },
  {
   "cell_type": "code",
   "execution_count": 7,
   "metadata": {},
   "outputs": [
    {
     "name": "stdout",
     "output_type": "stream",
     "text": [
      "False\n",
      "True\n"
     ]
    }
   ],
   "source": [
    "# 5. endswith()\n",
    "# returns True if a string ends with the specified suffix, returns False otherwise\n",
    "# str.endswith(suffix[, start[, end]])\n",
    "# start and end are optional\n",
    "\n",
    "\n",
    "string = \"A friend in need is a friend indeed!\"\n",
    "result = string.endswith(\"indeed\", 7, 36)\n",
    "# returns False\n",
    "print(result)\n",
    "\n",
    "string = \"A friend in need is a friend indeed!\"\n",
    "result = string.endswith(\"indeed!\", 7, 36)\n",
    "# returns True\n",
    "print(result)"
   ]
  },
  {
   "cell_type": "code",
   "execution_count": 18,
   "metadata": {},
   "outputs": [
    {
     "name": "stdout",
     "output_type": "stream",
     "text": [
      "Default tabsize: ABC     DEFGH   12345 \n",
      "\n",
      "Original string is: ABC\tDEFGH\t12345 \n",
      "\n",
      "Tabsize 2: ABC DEFGH 12345 \n",
      "\n",
      "Tabsize 3: ABC   DEFGH 12345 \n",
      "\n",
      "Tabsize 4: ABC DEFGH   12345 \n",
      "\n",
      "Tabsize 5: ABC  DEFGH     12345 \n",
      "\n",
      "Tabsize 6: ABC   DEFGH 12345\n"
     ]
    }
   ],
   "source": [
    "# 6. expandtabs()\n",
    "# keeps the track of current cursor position\n",
    "# string.expandtabs(tabsize)\n",
    "#tabsize is an integer argument, which is by default 8, if not mentioned.\n",
    "\n",
    "string = \"ABC\\tDEFGH\\t12345\"\n",
    "result = string.expandtabs()\n",
    "print(\"Default tabsize:\", result,\"\\n\")\n",
    "\n",
    "# mention tabsize\n",
    "string = \"ABC\\tDEFGH\\t12345\"\n",
    "print(\"Original string is:\", string, \"\\n\")\n",
    "\n",
    "print(\"Tabsize 2:\", string.expandtabs(2), \"\\n\")\n",
    "\n",
    "print(\"Tabsize 3:\", string.expandtabs(3), \"\\n\")\n",
    "\n",
    "print(\"Tabsize 4:\", string.expandtabs(4), \"\\n\")\n",
    "\n",
    "print(\"Tabsize 5:\", string.expandtabs(5), \"\\n\")\n",
    "\n",
    "print(\"Tabsize 6:\", string.expandtabs(6))\n"
   ]
  },
  {
   "cell_type": "code",
   "execution_count": 22,
   "metadata": {},
   "outputs": [
    {
     "name": "stdout",
     "output_type": "stream",
     "text": [
      "The string is: *pythön!\n",
      "The encoded version is: b'*pyth\\xc3\\xb6n!' \n",
      "\n",
      "The encoded version(with ignore_ascii) is: b'*pythn!'\n",
      "The encoded version(with ignore_UTF-8) is: b'*pyth\\xc3\\xb6n!' \n",
      "\n",
      "The encoded error(with replace_ascii) is: b'*pyth?n!'\n",
      "The encoded error(with replace_UTF-8) is: b'*pyth\\xc3\\xb6n!' \n",
      "\n",
      "The encoded error(with strict) is: b'*pyth\\xc3\\xb6n!' \n",
      "\n",
      "The encoded error(with xmlcharrefreplace_UTF) is: b'*pyth\\xc3\\xb6n!'\n",
      "The encoded error(with xmlcharrefreplace_ascii) is: b'*pyth&#246;n!' \n",
      "\n",
      "The encoded error(with backslashreplace_UTF) is: b'*pyth\\xc3\\xb6n!'\n",
      "The encoded error(with backslashreplace_ascii) is: b'*pyth\\\\xf6n!'\n"
     ]
    }
   ],
   "source": [
    "#7. encode()\n",
    "# returns the encoded version of the string\n",
    "# Popular encodings are  utf-8(used by default), ascii\n",
    "# string.encode(encoding= 'UTF-8', errors='strict')\n",
    "\n",
    "string = \"*pythön!\"\n",
    "print(\"The string is:\", string)\n",
    "string_utf = string.encode()\n",
    "print(\"The encoded version is:\", string_utf,\"\\n\")\n",
    "\n",
    "#encoding with error parameters\n",
    "# ignore error\n",
    "print(\"The encoded version(with ignore_ascii) is:\", string.encode(\"ascii\",\"ignore\"))\n",
    "print(\"The encoded version(with ignore_UTF-8) is:\", string.encode(\"UTF-8\",\"ignore\"),\"\\n\")\n",
    "\n",
    "#replace error\n",
    "print(\"The encoded error(with replace_ascii) is:\", string.encode(\"ascii\", \"replace\"))\n",
    "print(\"The encoded error(with replace_UTF-8) is:\", string.encode(\"UTF-8\", \"replace\"),\"\\n\")\n",
    "#strict error\n",
    "print(\"The encoded error(with strict) is:\", string.encode(\"UTF-8\", \"strict\"),\"\\n\")  #ascii not defined for this encoding\n",
    "\n",
    "# xmlcharrefreplace error\n",
    "print(\"The encoded error(with xmlcharrefreplace_UTF) is:\", string.encode(\"UTF-8\", \"xmlcharrefreplace\"))\n",
    "print(\"The encoded error(with xmlcharrefreplace_ascii) is:\", string.encode(\"ascii\", \"xmlcharrefreplace\"),\"\\n\")\n",
    "# backslashreplace error\n",
    "print(\"The encoded error(with backslashreplace_UTF) is:\", string.encode(\"UTF-8\", \"backslashreplace\"))\n",
    "print(\"The encoded error(with backslashreplace_ascii) is:\", string.encode(\"ascii\", \"backslashreplace\"))\n"
   ]
  },
  {
   "cell_type": "code",
   "execution_count": 27,
   "metadata": {},
   "outputs": [
    {
     "name": "stdout",
     "output_type": "stream",
     "text": [
      "index of 'let it': 0\n",
      "index of 'small': -1\n",
      "index of 'be': 18\n"
     ]
    }
   ],
   "source": [
    "#8. find()\n",
    "# returns the index of first occurrence of the substring, if found, otherwise returns -1\n",
    "# string.find(substring[, start[,end]])\n",
    "# start and end are optional\n",
    "\n",
    "string = \"let it be, let it be, let it be\"\n",
    "result = string.find(\"let it\")\n",
    "print(\"index of 'let it':\", result)\n",
    "\n",
    "output = string.find(\"small\", 5, 28 )\n",
    "print(\"index of 'small':\", output)\n",
    " \n",
    "answer = string.find(\"be\", 10)   #start point is at index 10\n",
    "print(\"index of 'be':\", answer)"
   ]
  },
  {
   "cell_type": "code",
   "execution_count": 8,
   "metadata": {},
   "outputs": [
    {
     "name": "stdout",
     "output_type": "stream",
     "text": [
      "\n",
      "PIAIC ISLAMABAD BATCH 3\n",
      "Name : Sobia Perviaz\n",
      "Father :Perviaz Ahmad Malik\n",
      "Course : Artificial Intelligence\n",
      "University : Bahria University\n",
      "\n"
     ]
    }
   ],
   "source": [
    "#9. format()\n",
    "# returns the formatted string\n",
    "\n",
    "name = \"Sobia Perviaz\"\n",
    "father_name= \"Perviaz Ahmad Malik\"\n",
    "course = \"Artificial Intelligence\"\n",
    "university = \"Bahria University\"\n",
    "\n",
    "message = \"\"\"\n",
    "PIAIC ISLAMABAD BATCH 3\n",
    "Name : {}\n",
    "Father :{}\n",
    "Course : {}\n",
    "University : {}\n",
    "\"\"\".format(name, father_name, course, university)\n",
    "print(message)"
   ]
  },
  {
   "cell_type": "code",
   "execution_count": 14,
   "metadata": {},
   "outputs": [
    {
     "name": "stdout",
     "output_type": "stream",
     "text": [
      "The index of 'new': 32\n",
      "The index of 'gence': 19\n"
     ]
    },
    {
     "ename": "ValueError",
     "evalue": "substring not found",
     "output_type": "error",
     "traceback": [
      "\u001b[1;31m---------------------------------------------------------------------------\u001b[0m",
      "\u001b[1;31mValueError\u001b[0m                                Traceback (most recent call last)",
      "\u001b[1;32m<ipython-input-14-e7196a99cf6e>\u001b[0m in \u001b[0;36m<module>\u001b[1;34m\u001b[0m\n\u001b[0;32m      8\u001b[0m \u001b[1;33m\u001b[0m\u001b[0m\n\u001b[0;32m      9\u001b[0m \u001b[0mprint\u001b[0m\u001b[1;33m(\u001b[0m\u001b[1;34m\"The index of 'gence':\"\u001b[0m\u001b[1;33m,\u001b[0m \u001b[0mstring\u001b[0m\u001b[1;33m.\u001b[0m\u001b[0mindex\u001b[0m\u001b[1;33m(\u001b[0m\u001b[1;34m\"gence\"\u001b[0m\u001b[1;33m,\u001b[0m \u001b[1;36m15\u001b[0m\u001b[1;33m,\u001b[0m \u001b[1;36m40\u001b[0m \u001b[1;33m)\u001b[0m\u001b[1;33m)\u001b[0m\u001b[1;33m\u001b[0m\u001b[1;33m\u001b[0m\u001b[0m\n\u001b[1;32m---> 10\u001b[1;33m \u001b[0mprint\u001b[0m\u001b[1;33m(\u001b[0m\u001b[1;34m\"The index of 'gence':\"\u001b[0m\u001b[1;33m,\u001b[0m \u001b[0mstring\u001b[0m\u001b[1;33m.\u001b[0m\u001b[0mindex\u001b[0m\u001b[1;33m(\u001b[0m\u001b[1;34m\"gence\"\u001b[0m\u001b[1;33m,\u001b[0m \u001b[1;36m0\u001b[0m\u001b[1;33m,\u001b[0m \u001b[1;36m10\u001b[0m \u001b[1;33m)\u001b[0m\u001b[1;33m)\u001b[0m\u001b[1;33m\u001b[0m\u001b[1;33m\u001b[0m\u001b[0m\n\u001b[0m",
      "\u001b[1;31mValueError\u001b[0m: substring not found"
     ]
    }
   ],
   "source": [
    "#10. index()\n",
    "# returns the index of a substring inside a string (if found), otherwise generates an exception (error)\n",
    "# str.index(substring[,start[,end]])  #start, end optional\n",
    "# Index() is similar to find() but index returns -1 if substring is not found, index returns Value Error exception\n",
    "\n",
    "string = \"Artifiacial Intelligence is the new electricity!\"\n",
    "print(\"The index of 'new':\", string.index(\"new\", 15, 40 ))\n",
    "\n",
    "print(\"The index of 'gence':\", string.index(\"gence\", 15, 40 ))\n",
    "print(\"The index of 'gence':\", string.index(\"gence\", 0, 10 ))"
   ]
  },
  {
   "cell_type": "code",
   "execution_count": 1,
   "metadata": {},
   "outputs": [
    {
     "name": "stdout",
     "output_type": "stream",
     "text": [
      "True\n",
      "False\n",
      "False\n"
     ]
    }
   ],
   "source": [
    "# 11. isalnum\n",
    "# returns True if all the characters in the string are alphanumeric(either alphabets or numbers),\n",
    "# returns False otherwise\n",
    "#string.isalnum()   ##requires no parameters\n",
    "\n",
    "code = \"ABCDEF8765\"\n",
    "print(code.isalnum())\n",
    "code = \"ABCDEF 7654\"   #contains a white space\n",
    "print(code.isalnum())\n",
    "code = \"ABCDEF%$#!\"\n",
    "print(code.isalnum())"
   ]
  },
  {
   "cell_type": "code",
   "execution_count": 2,
   "metadata": {},
   "outputs": [
    {
     "name": "stdout",
     "output_type": "stream",
     "text": [
      "True\n",
      "False\n",
      "False\n",
      "False\n"
     ]
    }
   ],
   "source": [
    "# 12. isalpha()\n",
    "#return True if all the characters in the string are alphabets, returns False otherwise\n",
    "#string.isalpha()  ##takes no parameters\n",
    "\n",
    "code = \"ABCDEFGHI\"\n",
    "print(code.isalpha())\n",
    "code = \"123456\"\n",
    "print(code.isalpha())\n",
    "code = \"ABCDEF 123456\"  #contains white spaces\n",
    "print(code.isalpha())\n",
    "code = \"ABCDEF123456\"\n",
    "print(code.isalpha())"
   ]
  },
  {
   "cell_type": "code",
   "execution_count": 12,
   "metadata": {},
   "outputs": [
    {
     "name": "stdout",
     "output_type": "stream",
     "text": [
      "False\n",
      "True\n",
      "False\n",
      "False\n"
     ]
    }
   ],
   "source": [
    "# 13. isdecimal()\n",
    "#return True if all the characters in the string are decimal characters, returns False otherwise\n",
    "#string.isdecimal()  ##takes no parameters\n",
    "#The superscript and subscripts are considered digit characters but not decimals. \n",
    "#If the string contains these characters (usually written using unicode), isdecimal() returns False.\n",
    "#Similarly, roman numerals, currency numerators and fractions are considered numeric \n",
    "#numbers (usually written using unicode) but not decimals. The isdecimal() also returns False in this case.\n",
    "\n",
    "code = \"ABCDEFGHI\"\n",
    "print(code.isdecimal())\n",
    "code = \"123456\"\n",
    "print(code.isdecimal())\n",
    "code = \"ABCDEF 123456\"  #contains white spaces\n",
    "print(code.isdecimal())\n",
    "code = \"\\u00B23455\"\n",
    "print(code.isdecimal())"
   ]
  },
  {
   "cell_type": "code",
   "execution_count": 13,
   "metadata": {},
   "outputs": [
    {
     "name": "stdout",
     "output_type": "stream",
     "text": [
      "True\n",
      "False\n",
      "False\n",
      "False\n",
      "True\n"
     ]
    }
   ],
   "source": [
    "#14. isdigit()\n",
    "#returns True if all the characters in the string are digits\n",
    "#returns False if at least one character in the string is not a digit\n",
    "#string.isdigit()  ##takes no parameters\n",
    "#In Python, superscript and subscripts (usually written using unicode) are also considered digit characters. \n",
    "#Hence, if the string contains these characters along with decimal characters, isdigit() returns True.\n",
    "#The roman numerals, currency numerators and fractions (usually written using unicode) \n",
    "#are considered numeric characters but not digits. The isdigit() returns False if the string contains these characters.\n",
    "\n",
    "code = \"1234567890\"\n",
    "print(code.isdigit())\n",
    "code = \"ABC123\"\n",
    "print(code.isdigit())\n",
    "code = \"123 456\"      #contains white spaces\n",
    "print(code.isdigit())\n",
    "code = \"\\u00B23455\"\n",
    "print(code.isdigit())"
   ]
  },
  {
   "cell_type": "code",
   "execution_count": 14,
   "metadata": {},
   "outputs": [
    {
     "name": "stdout",
     "output_type": "stream",
     "text": [
      "True\n",
      "False\n",
      "False\n",
      "True\n"
     ]
    }
   ],
   "source": [
    "#16. isnumeric()\n",
    "#returns True if all the characters in the string are neumeric\n",
    "#returns False if at least one character in the string is not a numeric\n",
    "#string.isnumeric()  ##takes no parameters\n",
    "# In Python, decimal characters (like: 0, 1, 2..), digits (like: subscript, superscript), \n",
    "# and characters having Unicode numeric value property (like: fraction, roman numerals, currency numerators) \n",
    "# are all considered numeric characters.\n",
    "\n",
    "code = \"1234567890\"\n",
    "print(code.isnumeric())\n",
    "code = \"ABC123\"\n",
    "print(code.isnumeric())\n",
    "code = \"123 456\"      #contains white spaces\n",
    "print(code.isnumeric())\n",
    "code = \"\\u00B23455\"   \n",
    "print(code.isnumeric())"
   ]
  },
  {
   "cell_type": "code",
   "execution_count": 15,
   "metadata": {},
   "outputs": [
    {
     "name": "stdout",
     "output_type": "stream",
     "text": [
      "True\n",
      "True\n",
      "False\n"
     ]
    }
   ],
   "source": [
    "#17. isidentifier()\n",
    "#returns True if the string is a valid identifier\n",
    "#returns False if the string is not a valid identifier\n",
    "#string.identifier()  ##takes no parameters\n",
    "# An identifier is a 'name' given to entities like class, functions, variables, etc.\n",
    "# It helps to differentiate one entity from another.\n",
    "# Identifiers can be a combination of letters in lowercase (a to z) or uppercase (A to Z) or digits (0 to 9) or an underscore _. Names like myClass, var_1 and print_this_to_screen, all are valid example.\n",
    "# An identifier cannot start with a digit. 1variable is invalid, but variable1 is perfectly fine.\n",
    "# Keywords cannot be used as identifiers.\n",
    "\n",
    "string = \"Pyhthon\"\n",
    "print(string.isidentifier())\n",
    "string = \"class1\"\n",
    "print(string.isidentifier())\n",
    "string = \"1class\"\n",
    "print(string.isidentifier())"
   ]
  },
  {
   "cell_type": "code",
   "execution_count": 18,
   "metadata": {},
   "outputs": [
    {
     "name": "stdout",
     "output_type": "stream",
     "text": [
      "True\n",
      "True\n",
      "True\n",
      "True\n",
      "False\n"
     ]
    }
   ],
   "source": [
    "#18. isascii()\n",
    "# returns True if all the characters in the string are ASCII, or the string is empty\n",
    "# returns False otherwise\n",
    "#string.isascii()  #takes no parameters\n",
    "\n",
    "string = \"Pyhthon\"\n",
    "print(string.isascii())\n",
    "string = \"class1\"\n",
    "print(string.isascii())\n",
    "string = \"1class\"\n",
    "print(string.isascii())\n",
    "string = \"#$%^&*\"\n",
    "print(string.isascii())\n",
    "string = \"片仮名*\"     #non-ASCII characters\n",
    "print(string.isascii())"
   ]
  },
  {
   "cell_type": "code",
   "execution_count": 20,
   "metadata": {},
   "outputs": [
    {
     "name": "stdout",
     "output_type": "stream",
     "text": [
      "False\n",
      "True\n",
      "True\n",
      "False\n"
     ]
    }
   ],
   "source": [
    "#19. islower()\n",
    "# returns True if all alphabets in a string are lowercase alphabets. \n",
    "# returns False if the string contains at least one uppercase alphabet\n",
    "# string.islower()   #takes no parameters\n",
    "\n",
    "string = \"Pyhthon\"\n",
    "print(string.islower())\n",
    "string = \"class is good\"\n",
    "print(string.islower())\n",
    "string = \"hello world!\"\n",
    "print(string.islower())\n",
    "string = \"$%%^&**!\"\n",
    "print(string.islower())"
   ]
  },
  {
   "cell_type": "code",
   "execution_count": 24,
   "metadata": {},
   "outputs": [
    {
     "name": "stdout",
     "output_type": "stream",
     "text": [
      "True\n",
      "True\n",
      "True\n",
      "True\n",
      "False\n"
     ]
    }
   ],
   "source": [
    "#20. isprintable()\n",
    "# returns True if all characters in the string are printable or the string is empty.\n",
    "# returns Falseif atleast one character is non-printable\n",
    "# Characters that occupy printing space on the screen are known as printable characters.\n",
    "# letters and symbols, digits, punctuation, whitespace are printable\n",
    "# string.isprintable()  #takes no parameters\n",
    "\n",
    "string = \"Pyhthon\"\n",
    "print(string.isprintable())\n",
    "string = \"class is good\"\n",
    "print(string.isprintable())\n",
    "string = \" \"\n",
    "print(string.isprintable())\n",
    "string = \"class 1, 2, 3 are scheduled\"\n",
    "print(string.isprintable())\n",
    "s = chr(27) + chr(97)  #chr(27) is escape character, chr(97) is letter 'a'\n",
    "print(s.isprintable())"
   ]
  },
  {
   "cell_type": "code",
   "execution_count": 26,
   "metadata": {},
   "outputs": [
    {
     "name": "stdout",
     "output_type": "stream",
     "text": [
      "True\n",
      "False\n",
      "False\n",
      "False\n"
     ]
    }
   ],
   "source": [
    "#21. isspace()\n",
    "# returns True if all characters in the string are whitespace characters\n",
    "# False if the string is empty or contains at least one non-printable() character\n",
    "# s.isspace()  #takes no parameters\n",
    "s = \"   \\t\"\n",
    "print(s.isspace())\n",
    "s = \"a\"\n",
    "print(s.isspace())\n",
    "s = \"\"\n",
    "print(s.isspace())  \n",
    "s = \"2+2 = 4\"\n",
    "print(s.isspace())"
   ]
  },
  {
   "cell_type": "code",
   "execution_count": 27,
   "metadata": {},
   "outputs": [
    {
     "name": "stdout",
     "output_type": "stream",
     "text": [
      "True\n",
      "False\n",
      "True\n",
      "True\n"
     ]
    }
   ],
   "source": [
    "#22. istitle()\n",
    "# returns True if the string is a titlecased string\n",
    "#False if the string is not a titlecased string or an empty string\n",
    "# s.istitle()  #takes no parameters\n",
    "\n",
    "string = \"Pyhthon\"\n",
    "print(string.istitle())\n",
    "string = \"class is good\"\n",
    "print(string.istitle())\n",
    "string = \"Class 1, 2, 3 Assignment\"\n",
    "print(string.istitle())\n",
    "string = \"Hello World!\"\n",
    "print(string.istitle())"
   ]
  },
  {
   "cell_type": "code",
   "execution_count": 28,
   "metadata": {},
   "outputs": [
    {
     "name": "stdout",
     "output_type": "stream",
     "text": [
      "False\n",
      "True\n",
      "False\n",
      "False\n"
     ]
    }
   ],
   "source": [
    "#23. isupper()\n",
    "# returns True if all alphabets in a string are uppercase alphabets. \n",
    "# returns False if the string contains at least one lowercase alphabet\n",
    "# string.isupper()   #takes no parameters\n",
    "\n",
    "string = \"Pyhthon\"\n",
    "print(string.isupper())\n",
    "string = \"CLASS IS GOOD\"\n",
    "print(string.isupper())\n",
    "string = \"hello world!\"\n",
    "print(string.isupper())\n",
    "string = \"$%%^&**!\"\n",
    "print(string.isupper())"
   ]
  },
  {
   "cell_type": "code",
   "execution_count": 33,
   "metadata": {},
   "outputs": [
    {
     "name": "stdout",
     "output_type": "stream",
     "text": [
      "Sobia,Pervaiz,2019\n",
      "Sobia,Pervaiz,2019\n",
      "Sobia,2019,Pervaiz\n",
      "mat->that\n"
     ]
    },
    {
     "ename": "TypeError",
     "evalue": "sequence item 0: expected str instance, int found",
     "output_type": "error",
     "traceback": [
      "\u001b[1;31m---------------------------------------------------------------------------\u001b[0m",
      "\u001b[1;31mTypeError\u001b[0m                                 Traceback (most recent call last)",
      "\u001b[1;32m<ipython-input-33-10d8e5253197>\u001b[0m in \u001b[0;36m<module>\u001b[1;34m\u001b[0m\n\u001b[0;32m     28\u001b[0m \u001b[0ms\u001b[0m \u001b[1;33m=\u001b[0m \u001b[1;34m', '\u001b[0m\u001b[1;33m\u001b[0m\u001b[1;33m\u001b[0m\u001b[0m\n\u001b[0;32m     29\u001b[0m \u001b[1;31m# this gives error\u001b[0m\u001b[1;33m\u001b[0m\u001b[1;33m\u001b[0m\u001b[1;33m\u001b[0m\u001b[0m\n\u001b[1;32m---> 30\u001b[1;33m \u001b[0mprint\u001b[0m\u001b[1;33m(\u001b[0m\u001b[0ms\u001b[0m\u001b[1;33m.\u001b[0m\u001b[0mjoin\u001b[0m\u001b[1;33m(\u001b[0m\u001b[0mtest\u001b[0m\u001b[1;33m)\u001b[0m\u001b[1;33m)\u001b[0m\u001b[1;33m\u001b[0m\u001b[1;33m\u001b[0m\u001b[0m\n\u001b[0m",
      "\u001b[1;31mTypeError\u001b[0m: sequence item 0: expected str instance, int found"
     ]
    }
   ],
   "source": [
    "#24. join()\n",
    "# concatenates each element of an iterable (such as list, string and tuple, dictionary, set) to the string\n",
    "# returns the concatenated string\n",
    "# If the iterable contains any non-string values, it raises a TypeError exception.\n",
    "# string.join(iterable)\n",
    "# It tries to concatenate the key (not value) of the dictionary to the string. \n",
    "# If the key of the string is not a string, it raises TypeError exception\n",
    "\n",
    "# for list\n",
    "name = [\"Sobia\", \"Pervaiz\", \"2019\"]\n",
    "separator = \",\"\n",
    "print(separator.join(name))\n",
    "\n",
    "# for tuple\n",
    "name = (\"Sobia\", \"Pervaiz\", \"2019\")\n",
    "separator = \",\"\n",
    "print(separator.join(name))\n",
    "\n",
    "# for set\n",
    "name = {\"Sobia\", \"Pervaiz\", \"2019\"}   # set is an unordered collection of items, and you may get different output\n",
    "separator = \",\"\n",
    "print(separator.join(name))\n",
    "# for dictionaries\n",
    "test =  {\"mat\": 1, \"that\": 2}\n",
    "s = '->'\n",
    "print(s.join(test))\n",
    "test =  {1:\"mat\", 2:\"that\"}\n",
    "s = ', '\n",
    "# this gives error\n",
    "print(s.join(test))"
   ]
  },
  {
   "cell_type": "code",
   "execution_count": 13,
   "metadata": {},
   "outputs": [
    {
     "name": "stdout",
     "output_type": "stream",
     "text": [
      "Python    \n",
      "Python****\n"
     ]
    }
   ],
   "source": [
    "#25. ljust\n",
    "# returns the left-justified string within the given minimum width.\n",
    "# If fillchar is defined, it also fills the remaining space with the defined character.\n",
    "# string.ljust(width[, fillchar])\n",
    "# width - width of the given string. If width is less than or equal to the length of the string, original string is returned.\n",
    "# fillchar (Optional) - character to fill the remaining space of the width\n",
    "\n",
    "string = \"Python\"\n",
    "print(string.ljust(10))\n",
    "string = \"Python\"\n",
    "width = 10\n",
    "fillchar = \"*\"\n",
    "print(string.ljust(width, fillchar))"
   ]
  },
  {
   "cell_type": "code",
   "execution_count": 16,
   "metadata": {},
   "outputs": [
    {
     "name": "stdout",
     "output_type": "stream",
     "text": [
      "artificial intelligence is the new electricity\n"
     ]
    }
   ],
   "source": [
    "#26. lower\n",
    "# returns the lowercased string from the given string. It converts all uppercase characters to lowercase.\n",
    "# If no uppercase characters exist, it returns the original string.\n",
    "# string.lower()  # takes no parameter\n",
    "\n",
    "code = \"ARTIFICIAL INTELLIGENCE IS THE NEW ELECTRICITY\"\n",
    "print(code.lower())"
   ]
  },
  {
   "cell_type": "code",
   "execution_count": 26,
   "metadata": {},
   "outputs": [
    {
     "name": "stdout",
     "output_type": "stream",
     "text": [
      "ARTIFICIAL INTELLIGENCE IS THE NEW ELECTRICITY\n",
      "IFICIAL INTELLIGENCE IS THE NEW ELECTRICITY\n",
      " INTELLIGENCE IS THE NEW ELECTRICITY\n",
      "notebooks/SOBIAPERVAIZ_ASSG1.ipynb#Batch-3-AI,-Bahria-University,-Islamabad\n"
     ]
    }
   ],
   "source": [
    "#27. lstrip()\n",
    "# returns a copy of the string with leading characters stripped.\n",
    "# All combinations of characters in the chars argument are removed from the left of the string until first mismatch.\n",
    "# string.lstrip([chars])\n",
    "# chars (optional) - a string specifying the set of characters to be removed.\n",
    "# If the chars argument is not provided, all leading whitespaces are removed from the string.\n",
    "\n",
    "joke = \"   ARTIFICIAL INTELLIGENCE IS THE NEW ELECTRICITY\"\n",
    "print(joke.lstrip())\n",
    "joke = \"ARTIFICIAL INTELLIGENCE IS THE NEW ELECTRICITY\"\n",
    "print(joke.lstrip(\"ART\"))\n",
    "joke = \"ARTIFICIAL INTELLIGENCE IS THE NEW ELECTRICITY\"\n",
    "print(joke.lstrip(\"ARTIFICIAL\"))\n",
    "code = \"http://localhost:8888/notebooks/SOBIAPERVAIZ_ASSG1.ipynb#Batch-3-AI,-Bahria-University,-Islamabad\"\n",
    "print(code.lstrip(\"http://localhost:8888/\"))"
   ]
  },
  {
   "cell_type": "code",
   "execution_count": 1,
   "metadata": {},
   "outputs": [
    {
     "name": "stdout",
     "output_type": "stream",
     "text": [
      "{97: '123', 98: '456', 99: '789'}\n",
      "{97: '123', 98: '456', 99: '789'}\n"
     ]
    }
   ],
   "source": [
    "#28. maketrans()\n",
    "# returns a translation table with a 1-to-1 mapping of a Unicode ordinal to its translation/replacement.\n",
    "# string.maketrans(x[, y[, z]])  # y, z are optional\n",
    "# maketrans() method takes 3 parameters:\n",
    "# x - If only one argument is supplied, it must be a dictionary.\n",
    "# The dictionary should contain 1-to-1 mapping from a single character string to its translation OR a unicode number (97 for 'a') to its translation.\n",
    "# y - If two arguments are passed, it must be two strings with equal length.\n",
    "# Each character in the first string is a replacement to its corresponding index in the second string.\n",
    "# z - If three arguments are passed, each character in the third argument is mapped to None.\n",
    "\n",
    "dict = {\"a\": \"123\", \"b\": \"456\", \"c\": \"789\"}\n",
    "string = \"abc\"\n",
    "print(string.maketrans(dict))\n",
    "\n",
    "dict = {97: \"123\", 98: \"456\", 99: \"789\"}\n",
    "string = \"abc\"\n",
    "print(string.maketrans(dict))\n",
    "# So, 97 ('a') is mapped to '123', 98 'b' to 456 and 99 'c' to 789.\n"
   ]
  },
  {
   "cell_type": "code",
   "execution_count": 4,
   "metadata": {},
   "outputs": [
    {
     "name": "stdout",
     "output_type": "stream",
     "text": [
      "('Let ', 'us', ' learn programming')\n",
      "('Programming ', 'is', ' fun')\n",
      "('Let us learn programming', '', '')\n"
     ]
    }
   ],
   "source": [
    "#29. partition()\n",
    "# returns a 3-tuple containing:\n",
    "# the part before the separator, separator parameter, and the part after the separator if the separator parameter is found in the string\n",
    "# string itself and two empty strings if the separator parameter is not found\n",
    "# takes a string parameter separator that separates the string at the first occurrence of it.\n",
    "# string.partition(separator)\n",
    "\n",
    "code = \"Let us learn programming\"\n",
    "print(code.partition(\"us\"))\n",
    "code = \"Programming is fun\"\n",
    "print(code.partition(\"is\"))\n",
    "code = \"Let us learn programming\"\n",
    "print(code.partition(\"not\"))"
   ]
  },
  {
   "cell_type": "code",
   "execution_count": 6,
   "metadata": {},
   "outputs": [
    {
     "name": "stdout",
     "output_type": "stream",
     "text": [
      "old string: Artificial intelligence is the conventional electricity\n",
      "correction: Artificial intelligence is the new electricity\n",
      "PIAIC PIAIC PIaIC\n"
     ]
    }
   ],
   "source": [
    "#30. replace()\n",
    "# returns a copy of the string where old substring is replaced with the new substring. The original string is unchanged.\n",
    "# If the old substring is not found, it returns the copy of the original string.\n",
    "# str.replace(old, new [, count])\n",
    "# old - old substring you want to replace\n",
    "# new - new substring which would replace the old substring\n",
    "# count (optional) - the number of times you want to replace the old substring with the new substring\n",
    "# If count is not specified, replace() method replaces all occurrences of the old substring with the new substring.\n",
    "\n",
    "code = \"Artificial intelligence is the conventional electricity\"\n",
    "correction = code.replace(\"conventional\", \"new\", 1)\n",
    "print(\"old string:\", code)\n",
    "print(\"correction:\", correction)\n",
    "\n",
    "string = \"PIaIC PIaIC PIaIC\"\n",
    "print(string.replace(\"a\", \"A\", 2))"
   ]
  },
  {
   "cell_type": "code",
   "execution_count": 17,
   "metadata": {},
   "outputs": [
    {
     "name": "stdout",
     "output_type": "stream",
     "text": [
      "index of 'Let it': 22\n",
      "index of 'small': -1\n",
      "index of 'it': 15\n",
      "index of 'it': 26\n"
     ]
    }
   ],
   "source": [
    "#31. rfind\n",
    "# returns an integer value.\n",
    "# If substring exists inside the string, it returns the highest index where substring is found.\n",
    "# If substring doesn't exist inside the string, it returns -1.\n",
    "# str.rfind(sub[, start[, end]] )\n",
    "# sub - It's the substring to be searched in the str string.\n",
    "# start and end (optional) - substring is searched within str[start:end]\n",
    "# find() returns the first occurrence of the substring whereas rfind() returns the highest index of the substring\n",
    "\n",
    "quote = \"Let it be, Let it be, Let it be\"\n",
    "result = quote.rfind(\"Let it\")\n",
    "print(\"index of 'Let it':\", result)\n",
    "result = quote.rfind(\"small\")\n",
    "print(\"index of 'small':\", result)\n",
    "result = quote.rfind(\"it\", 15, 25)\n",
    "print(\"index of 'it':\", result)\n",
    "result = quote.rfind(\"it\", 10)\n",
    "print(\"index of 'it':\", result)"
   ]
  },
  {
   "cell_type": "code",
   "execution_count": 19,
   "metadata": {},
   "outputs": [
    {
     "name": "stdout",
     "output_type": "stream",
     "text": [
      "index of 'Let it': 22\n",
      "index of 'it': 15\n",
      "index of 'it': 26\n"
     ]
    },
    {
     "ename": "ValueError",
     "evalue": "substring not found",
     "output_type": "error",
     "traceback": [
      "\u001b[1;31m---------------------------------------------------------------------------\u001b[0m",
      "\u001b[1;31mValueError\u001b[0m                                Traceback (most recent call last)",
      "\u001b[1;32m<ipython-input-19-00cac4378f72>\u001b[0m in \u001b[0;36m<module>\u001b[1;34m\u001b[0m\n\u001b[0;32m     14\u001b[0m \u001b[0mresult\u001b[0m \u001b[1;33m=\u001b[0m \u001b[0mquote\u001b[0m\u001b[1;33m.\u001b[0m\u001b[0mrindex\u001b[0m\u001b[1;33m(\u001b[0m\u001b[1;34m\"it\"\u001b[0m\u001b[1;33m,\u001b[0m \u001b[1;36m10\u001b[0m\u001b[1;33m)\u001b[0m\u001b[1;33m\u001b[0m\u001b[1;33m\u001b[0m\u001b[0m\n\u001b[0;32m     15\u001b[0m \u001b[0mprint\u001b[0m\u001b[1;33m(\u001b[0m\u001b[1;34m\"index of 'it':\"\u001b[0m\u001b[1;33m,\u001b[0m \u001b[0mresult\u001b[0m\u001b[1;33m)\u001b[0m\u001b[1;33m\u001b[0m\u001b[1;33m\u001b[0m\u001b[0m\n\u001b[1;32m---> 16\u001b[1;33m \u001b[0mresult\u001b[0m \u001b[1;33m=\u001b[0m \u001b[0mquote\u001b[0m\u001b[1;33m.\u001b[0m\u001b[0mrindex\u001b[0m\u001b[1;33m(\u001b[0m\u001b[1;34m\"small\"\u001b[0m\u001b[1;33m)\u001b[0m\u001b[1;33m\u001b[0m\u001b[1;33m\u001b[0m\u001b[0m\n\u001b[0m\u001b[0;32m     17\u001b[0m \u001b[0mprint\u001b[0m\u001b[1;33m(\u001b[0m\u001b[1;34m\"index of 'small':\"\u001b[0m\u001b[1;33m,\u001b[0m \u001b[0mresult\u001b[0m\u001b[1;33m)\u001b[0m\u001b[1;33m\u001b[0m\u001b[1;33m\u001b[0m\u001b[0m\n",
      "\u001b[1;31mValueError\u001b[0m: substring not found"
     ]
    }
   ],
   "source": [
    "#32. rindex\n",
    "# If substring exists inside the string, it returns the highest index in the string where substring is found.\n",
    "# If substring doesn't exist inside the string, it raises a ValueError exception.\n",
    "# rfind() returns -1 if the substring is not found, whereas rindex() throws an exception.\n",
    "# str.rindex(sub[, start[, end]] )\n",
    "# sub - substring to be searched in the str string.\n",
    "# start and end(optional) - substring is searched within str[start:end]\n",
    "\n",
    "quote = \"Let it be, Let it be, Let it be\"\n",
    "result = quote.rindex(\"Let it\")\n",
    "print(\"index of 'Let it':\", result)\n",
    "result = quote.rindex(\"it\", 15, 25)\n",
    "print(\"index of 'it':\", result)\n",
    "result = quote.rindex(\"it\", 10)\n",
    "print(\"index of 'it':\", result)\n",
    "result = quote.rindex(\"small\")\n",
    "print(\"index of 'small':\", result)"
   ]
  },
  {
   "cell_type": "code",
   "execution_count": 22,
   "metadata": {},
   "outputs": [
    {
     "name": "stdout",
     "output_type": "stream",
     "text": [
      "  cat\n",
      "**cat\n"
     ]
    }
   ],
   "source": [
    "#33. rjust\n",
    "# returns the right-justified string within the given minimum width\n",
    "# string.rjust(width[, fillchar])\n",
    "# width - width of the given string. If width is less than or equal to the length of the string, original string is returned.\n",
    "# fillchar (Optional) - character to fill the remaining space of the width\n",
    "\n",
    "string = \"cat\"\n",
    "width = 5\n",
    "print(string.rjust(5))\n",
    "string = \"cat\"\n",
    "width = 5\n",
    "print(string.rjust(5, \"*\"))"
   ]
  },
  {
   "cell_type": "code",
   "execution_count": 23,
   "metadata": {},
   "outputs": [
    {
     "name": "stdout",
     "output_type": "stream",
     "text": [
      "('Let ', 'us', ' learn programming')\n",
      "('Programming ', 'is', ' fun')\n",
      "('', '', 'Let us learn programming')\n"
     ]
    }
   ],
   "source": [
    "#34. rpartition\n",
    "# returns a 3-tuple containing:\n",
    "# the part before the separator, separator parameter, and the part after the separator if the separator parameter \n",
    "# is found in the string\n",
    "# two empy strings, followed by the string itself if the separator parameter is not found\n",
    "\n",
    "code = \"Let us learn programming\"\n",
    "print(code.rpartition(\"us\"))\n",
    "code = \"Programming is fun\"\n",
    "print(code.rpartition(\"is\"))\n",
    "code = \"Let us learn programming\"\n",
    "print(code.rpartition(\"not\"))"
   ]
  },
  {
   "cell_type": "code",
   "execution_count": 35,
   "metadata": {},
   "outputs": [
    {
     "name": "stdout",
     "output_type": "stream",
     "text": [
      "['programming', 'is', 'fun']\n",
      "['CEO', ' CTO', ' CIO', ' CAIO'] \n",
      "\n",
      "['CEO, CTO, CIO, CAIO'] \n",
      "\n",
      "['CEO, CTO', ' CIO', ' CAIO'] \n",
      "\n",
      "['CEO', ' CTO', ' CIO', ' CAIO'] \n",
      "\n",
      "['CEO', ' CTO', ' CIO', ' CAIO'] \n",
      "\n",
      "['CEO, CTO, CIO, CAIO']\n"
     ]
    }
   ],
   "source": [
    "#35. rsplit()\n",
    "# breaks the string at the separator starting from the right and returns a list of strings.\n",
    "# str.rsplit([separator [, maxsplit]])\n",
    "# separator (optional)- The is a delimiter, splits string starting from the right at the specified separator\n",
    "# If the separator is not specified, any whitespace (space, newline etc.) string is a separator.\n",
    "# maxsplit (optional) - The maxsplit defines the maximum number of splits.\n",
    "# The default value of maxsplit is -1, meaning, no limit on the number of splits.\n",
    "# When maxsplit is not specified, the rsplit() behaves like split().\n",
    "# If maxsplit is specified, the list will have the maximum of maxsplit+1 items\n",
    "\n",
    "code = \"programming is fun\"\n",
    "print(code.rsplit())  # split at space\n",
    "panel = \"CEO, CTO, CIO, CAIO\"\n",
    "print(panel.rsplit(\",\"), \"\\n\")\n",
    "print(panel.rsplit(\":\"), \"\\n\")   # \":\" not found so returns original string\n",
    "print(panel.rsplit(\",\", 2), \"\\n\")\n",
    "print(panel.rsplit(\",\", 4), \"\\n\")\n",
    "print(panel.rsplit(\",\", 5), \"\\n\")\n",
    "print(panel.rsplit(\",\", 0))"
   ]
  },
  {
   "cell_type": "code",
   "execution_count": 40,
   "metadata": {},
   "outputs": [
    {
     "name": "stdout",
     "output_type": "stream",
     "text": [
      "ARTIFICIAL INTELLIGENCE IS THE NEW ELECTRICITY\n",
      "ARTIFICIAL INTELLIGENCE IS THE NEW ELECTR\n",
      "ARTIFICIAL INTELLIGENCE IS THE NEW \n",
      "http://localhost:8888/notebooks/SOBIAPERVAIZ_ASSG1.ipynb#Batch-3-AI,-Bah\n"
     ]
    }
   ],
   "source": [
    "#36. rstrip()\n",
    "# returns a copy of the string with trailing characters stripped.\n",
    "# All combinations of characters in the chars argument are removed from the right of the string until first mismatch.\n",
    "# string.rstrip([chars])\n",
    "# chars (optional) - a string specifying the set of characters to be removed.\n",
    "# If the chars argument is not provided, all whitespaces on the right are removed from the string.\n",
    "\n",
    "joke = \"ARTIFICIAL INTELLIGENCE IS THE NEW ELECTRICITY\"\n",
    "print(joke.rstrip())\n",
    "joke = \"ARTIFICIAL INTELLIGENCE IS THE NEW ELECTRICITY\"\n",
    "print(joke.rstrip(\"YTICI\"))\n",
    "joke = \"ARTIFICIAL INTELLIGENCE IS THE NEW ELECTRICITY\"\n",
    "print(joke.rstrip(\"ELECTRICITY\"))\n",
    "code = \"http://localhost:8888/notebooks/SOBIAPERVAIZ_ASSG1.ipynb#Batch-3-AI,-Bahria-University,-Islamabad\"\n",
    "print(code.rstrip(\"University,-Islamabad\"))"
   ]
  },
  {
   "cell_type": "code",
   "execution_count": 41,
   "metadata": {},
   "outputs": [
    {
     "name": "stdout",
     "output_type": "stream",
     "text": [
      "['programming', 'is', 'fun']\n",
      "['CEO', ' CTO', ' CIO', ' CAIO'] \n",
      "\n",
      "['CEO, CTO, CIO, CAIO'] \n",
      "\n",
      "['CEO', ' CTO', ' CIO, CAIO'] \n",
      "\n",
      "['CEO', ' CTO', ' CIO', ' CAIO'] \n",
      "\n",
      "['CEO', ' CTO', ' CIO', ' CAIO'] \n",
      "\n",
      "['CEO, CTO, CIO, CAIO']\n"
     ]
    }
   ],
   "source": [
    "#37. split()\n",
    "#breaks the string at the separator and returns a list of strings.\n",
    "# str.split([separator [, maxsplit]])\n",
    "# separator (optional)- The is a delimiter. The string splits at the specified separator.\n",
    "# If the separator is not specified, any whitespace (space, newline etc.) string is a separator.\n",
    "# maxsplit (optional) - The maxsplit defines the maximum number of splits.\n",
    "# The default value of maxsplit is -1, meaning, no limit on the number of splits.\n",
    "\n",
    "code = \"programming is fun\"\n",
    "print(code.split())  # split at space\n",
    "panel = \"CEO, CTO, CIO, CAIO\"\n",
    "print(panel.split(\",\"), \"\\n\")\n",
    "print(panel.split(\":\"), \"\\n\")   # \":\" not found so returns original string\n",
    "print(panel.split(\",\", 2), \"\\n\")\n",
    "print(panel.split(\",\", 4), \"\\n\")\n",
    "print(panel.split(\",\", 5), \"\\n\")\n",
    "print(panel.split(\",\", 0))"
   ]
  },
  {
   "cell_type": "code",
   "execution_count": 48,
   "metadata": {},
   "outputs": [
    {
     "name": "stdout",
     "output_type": "stream",
     "text": [
      "['CEO', 'CTO', 'CIO', 'CAIO']\n",
      "['CEO\\n', 'CTO\\r\\n', 'CIO\\r', 'CAIO']\n",
      "['CEO CTO CIO CAIO']\n"
     ]
    }
   ],
   "source": [
    "#38. splitlines()\n",
    "# returns a list of lines in the string.\n",
    "# If there are no line break characters, it returns a list with single item (a single line).\n",
    "# str.splitlines([keepends])\n",
    "# keepends (optional) - If keepends is provided and True, line breaks are also included in items of the list.\n",
    "# By default, the line breaks are not included\n",
    "\n",
    "panel = \"CEO\\nCTO\\r\\nCIO\\rCAIO\"\n",
    "print(panel.splitlines())\n",
    "print(panel.splitlines(True))\n",
    "panel = \"CEO CTO CIO CAIO\"\n",
    "print(panel.splitlines())"
   ]
  },
  {
   "cell_type": "code",
   "execution_count": 5,
   "metadata": {},
   "outputs": [
    {
     "name": "stdout",
     "output_type": "stream",
     "text": [
      "True\n",
      "True\n",
      "True\n"
     ]
    }
   ],
   "source": [
    "#39. startswith()\n",
    "# returns True if the string starts with the specified prefix.\n",
    "# returns False if the string doesn't start with the specified prefix.\n",
    "# str.startswith(prefix[, start[, end]])\n",
    "# prefix - String or tuple of strings to be checked\n",
    "# start (optional) - Beginning position where prefix is to be checked within the string.\n",
    "# end (optional) - Ending position where prefix is to be checked within the string.\n",
    "\n",
    "quote = \"Artificial intelligence is the new electricity\"\n",
    "print(quote.startswith(\"Artificial\"))\n",
    "print(quote.startswith(\"Artificial\", 0, 12))\n",
    "print(quote.startswith(\"intel\", 11, 24))"
   ]
  },
  {
   "cell_type": "code",
   "execution_count": 12,
   "metadata": {},
   "outputs": [
    {
     "name": "stdout",
     "output_type": "stream",
     "text": [
      "space strip: ARTIFICIAL INTELLIGENCE IS THE NEW ELECTRICITY\n",
      "YTICI strip: ARTIFICIAL INTELLIGENCE IS THE NEW ELECTR\n",
      "ELECTRICITY strip: ARTIFICIAL INTELLIGENCE IS THE NEW \n",
      "ELCTRY strip: ARTIFICIAL INTELLIGENCE IS THE NEW ELECTRICI\n",
      "http://localhost:8888/notebooks/SOBIAPERVAIZ_ASSG1.ipynb#Batch-3-AI,-Bah\n"
     ]
    }
   ],
   "source": [
    "#40. strip()\n",
    "# eturns a copy of the string with both leading and trailing characters stripped.\n",
    "# When the combination of characters in the chars argument mismatches the character of the string in the left, \n",
    "# it stops removing the leading characters.\n",
    "# Similarly, when the combination of characters in the chars argument mismatches the character of the string in the right,\n",
    "# it stops removing the trailing characters.\n",
    "# string.strip([chars])\n",
    "# chars (optional) - a string specifying the set of characters to be removed.\n",
    "# If the chars argument is not provided, all leading and trailing whitespaces are removed from the string.\n",
    "\n",
    "joke = \"  ARTIFICIAL INTELLIGENCE IS THE NEW ELECTRICITY  \"\n",
    "print(\"space strip:\", joke.strip())\n",
    "joke = \"ARTIFICIAL INTELLIGENCE IS THE NEW ELECTRICITY\"\n",
    "print(\"YTICI strip:\",joke.strip(\"YTICI\"))\n",
    "joke = \"ARTIFICIAL INTELLIGENCE IS THE NEW ELECTRICITY\"\n",
    "print(\"ELECTRICITY strip:\",joke.strip(\"ELECTRICITY\"))\n",
    "print(\"ELCTRY strip:\",joke.strip(\"ELCTRY\"))  # only strips 'TY'\n",
    "\n",
    "code = \"http://localhost:8888/notebooks/SOBIAPERVAIZ_ASSG1.ipynb#Batch-3-AI,-Bahria-University,-Islamabad\"\n",
    "print(code.rstrip(\"ria-University,-Islamabad\"))"
   ]
  },
  {
   "cell_type": "code",
   "execution_count": 16,
   "metadata": {},
   "outputs": [
    {
     "name": "stdout",
     "output_type": "stream",
     "text": [
      "artificial intelligence is the new electricity\n",
      "ARTIFICIAL INTELLIGENCE IS THE NEW ELECTRICITY\n",
      "ARTIFiciAL INTelligeNCE IS THE new ELECTRICITY\n"
     ]
    }
   ],
   "source": [
    "#41. swapcase()\n",
    "# returns the string where all uppercase characters are converted to lowercase, \n",
    "# and lowercase characters are converted to uppercase.\n",
    "# string.swapcase()   # doesn't take any parameters\n",
    "# Not necessarily, string.swapcase().swapcase() == string\n",
    "\n",
    "joke = \"ARTIFICIAL INTELLIGENCE IS THE NEW ELECTRICITY\"\n",
    "print(joke.swapcase())\n",
    "joke = \"artificial intelligence is the new electricity\"\n",
    "print(joke.swapcase())\n",
    "joke = \"artifICIal intELLIGEnce is the NEW electricity\"\n",
    "print(joke.swapcase())"
   ]
  },
  {
   "cell_type": "code",
   "execution_count": 19,
   "metadata": {},
   "outputs": [
    {
     "name": "stdout",
     "output_type": "stream",
     "text": [
      "Sobia Pervaiz\n",
      "He'S A Programmer\n"
     ]
    }
   ],
   "source": [
    "#42. title()\n",
    "# returns a title cased version of the string. \n",
    "# Meaning, the first character of the each word is capitalized (if the first character is a letter).\n",
    "# str.title()  # takes no parameter\n",
    "\n",
    "name = \"sobia pervaiz\"\n",
    "print(name.title())\n",
    "string = \"he's a programmer\"\n",
    "print(string.title())"
   ]
  },
  {
   "cell_type": "code",
   "execution_count": 21,
   "metadata": {},
   "outputs": [
    {
     "name": "stdout",
     "output_type": "stream",
     "text": [
      "Original string: abcdef\n",
      "Translated string: idef\n",
      "Original string: abcdef\n",
      "Translated string: idef\n"
     ]
    }
   ],
   "source": [
    "#43. translate()\n",
    "# returns a string where each character is mapped to its corresponding character as per the translation table\n",
    "# string.translate(table)\n",
    "# table - a translation table containing the mapping between two characters; usually created by maketrans()\n",
    "\n",
    "# first string\n",
    "firstString = \"abc\"\n",
    "secondString = \"ghi\"\n",
    "thirdString = \"ab\"\n",
    "\n",
    "string = \"abcdef\"\n",
    "print(\"Original string:\", string)\n",
    "\n",
    "translation = string.maketrans(firstString, secondString, thirdString)\n",
    "\n",
    "# translate string\n",
    "print(\"Translated string:\", string.translate(translation))\n",
    "\n",
    "translation = {97: None, 98: None, 99: 105}\n",
    "\n",
    "string = \"abcdef\"\n",
    "print(\"Original string:\", string)\n",
    "\n",
    "# translate string\n",
    "print(\"Translated string:\", string.translate(translation))"
   ]
  },
  {
   "cell_type": "code",
   "execution_count": 23,
   "metadata": {},
   "outputs": [
    {
     "name": "stdout",
     "output_type": "stream",
     "text": [
      "ARTIFICIAL INTELLIGENCE IS THE NEW ELECTRICITY\n",
      "ARTIFICIAL INTELLIGENCE IS THE NEW ELECTRICITY\n"
     ]
    }
   ],
   "source": [
    "# 44. upper()\n",
    "# converts all lowecase characters to uppercase.\n",
    "# If no lowercase characters exist, it returns the original string.\n",
    "# string.upper()\n",
    "\n",
    "joke = \"artificial intelligence is the new electricity\"\n",
    "print(joke.upper())\n",
    "joke = \"ARTIFICIAL INTELLIGENCE IS THE NEW ELECTRICITY\"\n",
    "print(joke.upper())"
   ]
  },
  {
   "cell_type": "code",
   "execution_count": 25,
   "metadata": {},
   "outputs": [
    {
     "name": "stdout",
     "output_type": "stream",
     "text": [
      "0program is fun\n",
      "000000program is fun\n",
      "program is fun\n",
      "-0000290\n",
      "+0000290\n",
      "-0000000-random+text\n"
     ]
    }
   ],
   "source": [
    "#45. zfill\n",
    "#  returns a copy of the string with '0' filled to the left. The length of the returned string depends on the width provided.\n",
    "# Suppose, the initial length of the string is 10. And, the width is specified 15. In this case, the zfill() returns\n",
    "# a copy of the string with five '0' digits filled to the left.\n",
    "# Suppose, the initial length of the string is 10. And, the width is specified 8. In this case, the zfill() doesn't \n",
    "# fill '0' digits to the left and returns a copy of the original string. The length of the returned string \n",
    "# in this case will be 10.\n",
    "# str.zfill(width)\n",
    "# width specifies the length of the returned string from zfill() with '0' digits filled to the left.\n",
    "\n",
    "text = \"program is fun\"\n",
    "print(text.zfill(15))\n",
    "print(text.zfill(20))\n",
    "print(text.zfill(10))\n",
    "\n",
    "number = \"-290\"\n",
    "print(number.zfill(8))\n",
    "\n",
    "number = \"+290\"\n",
    "print(number.zfill(8))\n",
    "\n",
    "text = \"--random+text\"\n",
    "print(text.zfill(20))"
   ]
  },
  {
   "cell_type": "code",
   "execution_count": 26,
   "metadata": {},
   "outputs": [
    {
     "name": "stdout",
     "output_type": "stream",
     "text": [
      "4 -5\n",
      "4 -5 0\n"
     ]
    }
   ],
   "source": [
    "#46. format_map\n",
    "# formats the given string and returns it.\n",
    "# format_map(mapping) is similar to str.format(**mapping) method.\n",
    "# The only difference is that, the str.format(**mapping) copies the dict whereas str.format_map(mapping) makes \n",
    "# a new dictionary during method call. This can be useful if you are working with a dict subclass.\n",
    "# str.format_map(mapping)  # takes a single argument mapping(dictionary).\n",
    "\n",
    "point = {'x':4,'y':-5}\n",
    "print('{x} {y}'.format_map(point))\n",
    "\n",
    "point = {'x':4,'y':-5, 'z': 0}\n",
    "print('{x} {y} {z}'.format_map(point))"
   ]
  },
  {
   "cell_type": "code",
   "execution_count": null,
   "metadata": {},
   "outputs": [],
   "source": []
  }
 ],
 "metadata": {
  "kernelspec": {
   "display_name": "Python 3",
   "language": "python",
   "name": "python3"
  },
  "language_info": {
   "codemirror_mode": {
    "name": "ipython",
    "version": 3
   },
   "file_extension": ".py",
   "mimetype": "text/x-python",
   "name": "python",
   "nbconvert_exporter": "python",
   "pygments_lexer": "ipython3",
   "version": "3.7.4"
  }
 },
 "nbformat": 4,
 "nbformat_minor": 2
}
